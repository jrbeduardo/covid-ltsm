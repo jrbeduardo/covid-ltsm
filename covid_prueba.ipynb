{
  "nbformat": 4,
  "nbformat_minor": 0,
  "metadata": {
    "colab": {
      "provenance": [],
      "authorship_tag": "ABX9TyPMTcHgGfiDH6YTAKTVqQVI",
      "include_colab_link": true
    },
    "kernelspec": {
      "name": "python3",
      "display_name": "Python 3"
    },
    "language_info": {
      "name": "python"
    }
  },
  "cells": [
    {
      "cell_type": "markdown",
      "metadata": {
        "id": "view-in-github",
        "colab_type": "text"
      },
      "source": [
        "<a href=\"https://colab.research.google.com/github/jrbeduardo/covid-ltsm/blob/main/covid_prueba.ipynb\" target=\"_parent\"><img src=\"https://colab.research.google.com/assets/colab-badge.svg\" alt=\"Open In Colab\"/></a>"
      ]
    },
    {
      "cell_type": "markdown",
      "source": [
        "### 🧰 Librerías utilizadas y su propósito en el modelo\n",
        "\n",
        "Para el desarrollo del modelo de predicción con redes LSTM, se utilizan las siguientes bibliotecas de Python, ampliamente usadas en ciencia de datos y aprendizaje automático:\n",
        "\n",
        "---\n",
        "\n",
        "#### 📊 `pandas`\n",
        "- Uso: manipulación y análisis de datos tabulares.\n",
        "- Aplicaciones en este proyecto:\n",
        "  - Carga de archivos CSV\n",
        "  - Transformación de datos (por ejemplo, convertir a formato largo con `melt`)\n",
        "  - Agrupaciones y resúmenes por municipio y fecha\n",
        "\n",
        "---\n",
        "\n",
        "#### 🧮 `numpy`\n",
        "- Uso: operaciones numéricas de alto rendimiento.\n",
        "- Aplicaciones:\n",
        "  - Manejo de arrays para crear secuencias de entrenamiento\n",
        "  - Cálculo de métricas personalizadas o preprocesamiento de datos\n",
        "\n",
        "---\n",
        "\n",
        "#### 📈 `matplotlib` y `seaborn`\n",
        "- Uso: visualización de datos.\n",
        "- Aplicaciones:\n",
        "  - Trazado de series temporales de casos reales y predichos\n",
        "  - Gráficos de boxplot y distribución para análisis exploratorio (EDA)\n",
        "  - Visualización del desempeño del modelo (errores, curvas de pérdida)\n",
        "\n",
        "---\n",
        "\n",
        "#### 🧪 `scikit-learn` (`sklearn`)\n",
        "- Uso: herramientas de machine learning y estadísticas.\n",
        "- Aplicaciones:\n",
        "  - `StandardScaler`: normalización de los datos de entrada\n",
        "  - `mean_absolute_percentage_error` y `mean_squared_error`: cálculo de métricas MAPE y RMSE\n",
        "\n",
        "---\n",
        "\n",
        "#### 🤖 `tensorflow.keras`\n",
        "- Uso: creación y entrenamiento de redes neuronales profundas.\n",
        "- Aplicaciones:\n",
        "  - `Sequential`, `Input`, `LSTM`, `Bidirectional`, `Dense`: definición de la arquitectura del modelo LSTM\n",
        "  - `EarlyStopping`: técnica para evitar sobreentrenamiento al detener el entrenamiento si no mejora la validación\n",
        "  - `model.predict`: para realizar predicciones con el modelo entrenado\n",
        "\n",
        "---\n",
        "\n",
        "> Estas librerías proporcionan un entorno robusto para construir modelos predictivos eficientes, interpretar su desempeño y visualizar los resultados de forma clara.\n"
      ],
      "metadata": {
        "id": "oOekWtjNu8A6"
      }
    },
    {
      "cell_type": "code",
      "source": [
        "# ========================================\n",
        "# 📦 Carga de librerías\n",
        "# ========================================\n",
        "\n",
        "# Manipulación y análisis de datos\n",
        "import pandas as pd           # Estructuras de datos tipo DataFrame\n",
        "import numpy as np            # Cálculo numérico eficiente\n",
        "\n",
        "# Visualización\n",
        "import matplotlib.pyplot as plt  # Gráficos básicos\n",
        "import seaborn as sns            # Gráficos estadísticos más avanzados\n",
        "\n",
        "# Preprocesamiento\n",
        "from sklearn.preprocessing import StandardScaler  # Normalización de datos\n",
        "\n",
        "# Métricas de evaluación\n",
        "from sklearn.metrics import mean_absolute_percentage_error, mean_squared_error\n",
        "\n",
        "# Modelado con redes neuronales\n",
        "from tensorflow.keras.models import Sequential\n",
        "from tensorflow.keras.layers import LSTM, Dense, Bidirectional\n",
        "from tensorflow.keras import Input\n",
        "from tensorflow.keras.callbacks import EarlyStopping  # Para detener entrenamiento si no mejora\n"
      ],
      "metadata": {
        "id": "BRZEHoaMh3yo"
      },
      "execution_count": 46,
      "outputs": []
    },
    {
      "cell_type": "markdown",
      "source": [
        "### 🔁 ¿Qué es una red LSTM?\n",
        "\n",
        "Las **LSTM** (*Long Short-Term Memory*) son un tipo especial de red neuronal recurrente (**RNN**) diseñadas para aprender patrones en **secuencias de datos** como series temporales, texto o audio.\n",
        "\n",
        "---\n",
        "\n",
        "### 🧠 ¿Por qué usar LSTM?\n",
        "\n",
        "A diferencia de las redes neuronales tradicionales, las LSTM pueden **retener información durante muchas etapas de tiempo**, lo que las hace ideales para problemas donde los datos pasados afectan los resultados futuros, como:\n",
        "\n",
        "- Casos diarios de COVID\n",
        "- Pronóstico del clima\n",
        "- Traducción automática\n",
        "- Reconocimiento de voz\n",
        "\n",
        "---\n",
        "\n",
        "### 🧩 Estructura básica de una celda LSTM\n",
        "\n",
        "Una celda LSTM contiene **puertas** que controlan el flujo de información:\n",
        "\n",
        "1. **Puerta de olvido (`forget gate`)**: decide qué información antigua se descarta.\n",
        "2. **Puerta de entrada (`input gate`)**: selecciona qué nueva información se guarda.\n",
        "3. **Puerta de salida (`output gate`)**: determina qué parte del estado oculto se envía como salida.\n",
        "\n",
        "Esta estructura permite a la red:\n",
        "- **Recordar patrones importantes** a largo plazo\n",
        "- **Olvidar ruido o valores irrelevantes**\n",
        "- Evitar el problema del *gradiente desvanecido*, común en RNN tradicionales\n",
        "\n",
        "---\n",
        "\n",
        "### 🔄 ¿Qué es una LSTM Bidireccional?\n",
        "\n",
        "Una **LSTM Bidireccional** procesa la secuencia **hacia adelante y hacia atrás**:\n",
        "\n",
        "- Captura dependencias pasadas (como una LSTM normal)\n",
        "- Y también dependencias futuras, dentro de la secuencia de entrada\n",
        "\n",
        "Esto es útil cuando se tiene **toda la secuencia disponible** al momento del entrenamiento, como en análisis retrospectivos de series de datos.\n",
        "\n",
        "---\n",
        "\n",
        "### 📦 En resumen\n",
        "\n",
        "| Característica      | LSTM tradicional | LSTM Bidireccional       |\n",
        "|---------------------|------------------|---------------------------|\n",
        "| Dirección de lectura| Adelante         | Adelante y atrás          |\n",
        "| Capacidad de memoria| Alta             | Mayor (doble contexto)    |\n",
        "| Casos de uso        | Series temporales, texto, audio | Igual, pero con mejores resultados cuando se tiene toda la secuencia disponible |\n",
        "\n",
        "> En este proyecto, se usa una LSTM Bidireccional para predecir los casos diarios de COVID, capturando mejor los patrones locales y estacionales de la serie temporal.\n",
        "\n"
      ],
      "metadata": {
        "id": "gY2LZOuTuQf1"
      }
    },
    {
      "cell_type": "markdown",
      "source": [
        "## Funciones"
      ],
      "metadata": {
        "id": "OZHECJ7RjlAM"
      }
    },
    {
      "cell_type": "code",
      "source": [
        "def crear_ventanas(serie, n_pasos=30):\n",
        "    \"\"\"\n",
        "    Crea ventanas deslizantes para series temporales.\n",
        "    Args:\n",
        "        serie: np.array (n, 1)\n",
        "        n_pasos: int\n",
        "    Returns:\n",
        "        X, y: arrays para entrenamiento de modelos secuenciales\n",
        "    \"\"\"\n",
        "    X, y = [], []\n",
        "    for i in range(n_pasos, len(serie)):\n",
        "        X.append(serie[i - n_pasos:i])\n",
        "        y.append(serie[i])\n",
        "    return np.array(X), np.array(y)"
      ],
      "metadata": {
        "id": "tR6tF2ZEjpBw"
      },
      "execution_count": 45,
      "outputs": []
    },
    {
      "cell_type": "markdown",
      "source": [
        "## Carga"
      ],
      "metadata": {
        "id": "r9yKkRMCmKv4"
      }
    },
    {
      "cell_type": "code",
      "execution_count": 2,
      "metadata": {
        "id": "tSxq9sQPg-P1"
      },
      "outputs": [],
      "source": [
        " df = pd.read_csv('/content/Casos_Diarios_Municipio_Confirmados_20230625.csv')"
      ]
    },
    {
      "cell_type": "code",
      "source": [
        "df.columns[:4]"
      ],
      "metadata": {
        "colab": {
          "base_uri": "https://localhost:8080/"
        },
        "id": "Dk-pbDf5lZVg",
        "outputId": "26eb2727-73bc-4d57-faa5-14089af6e2ef"
      },
      "execution_count": 20,
      "outputs": [
        {
          "output_type": "execute_result",
          "data": {
            "text/plain": [
              "Index(['cve_ent', 'poblacion', 'nombre', '26-02-2020'], dtype='object')"
            ]
          },
          "metadata": {},
          "execution_count": 20
        }
      ]
    },
    {
      "cell_type": "code",
      "source": [
        "df_long = pd.melt(df, id_vars=['cve_ent', 'poblacion', 'nombre'], var_name='fecha', value_name='casos')\n",
        "df_long['fecha'] = pd.to_datetime(df_long['fecha'], dayfirst=True)\n",
        "df_long.head()"
      ],
      "metadata": {
        "colab": {
          "base_uri": "https://localhost:8080/",
          "height": 206
        },
        "id": "4MM4Km_clE5s",
        "outputId": "10170977-14b6-4695-ae2d-0e7a3ed541db"
      },
      "execution_count": 23,
      "outputs": [
        {
          "output_type": "execute_result",
          "data": {
            "text/plain": [
              "   cve_ent  poblacion      nombre      fecha  casos\n",
              "0    16046      15290      Juarez 2020-02-26      0\n",
              "1    16047      22358    Jungapeo 2020-02-26      0\n",
              "2    16048       5862  Lagunillas 2020-02-26      0\n",
              "3    16049      18769      Madero 2020-02-26      0\n",
              "4     5035     744247     Torreon 2020-02-26      0"
            ],
            "text/html": [
              "\n",
              "  <div id=\"df-8132ad49-99ef-4487-b411-f322f321a31b\" class=\"colab-df-container\">\n",
              "    <div>\n",
              "<style scoped>\n",
              "    .dataframe tbody tr th:only-of-type {\n",
              "        vertical-align: middle;\n",
              "    }\n",
              "\n",
              "    .dataframe tbody tr th {\n",
              "        vertical-align: top;\n",
              "    }\n",
              "\n",
              "    .dataframe thead th {\n",
              "        text-align: right;\n",
              "    }\n",
              "</style>\n",
              "<table border=\"1\" class=\"dataframe\">\n",
              "  <thead>\n",
              "    <tr style=\"text-align: right;\">\n",
              "      <th></th>\n",
              "      <th>cve_ent</th>\n",
              "      <th>poblacion</th>\n",
              "      <th>nombre</th>\n",
              "      <th>fecha</th>\n",
              "      <th>casos</th>\n",
              "    </tr>\n",
              "  </thead>\n",
              "  <tbody>\n",
              "    <tr>\n",
              "      <th>0</th>\n",
              "      <td>16046</td>\n",
              "      <td>15290</td>\n",
              "      <td>Juarez</td>\n",
              "      <td>2020-02-26</td>\n",
              "      <td>0</td>\n",
              "    </tr>\n",
              "    <tr>\n",
              "      <th>1</th>\n",
              "      <td>16047</td>\n",
              "      <td>22358</td>\n",
              "      <td>Jungapeo</td>\n",
              "      <td>2020-02-26</td>\n",
              "      <td>0</td>\n",
              "    </tr>\n",
              "    <tr>\n",
              "      <th>2</th>\n",
              "      <td>16048</td>\n",
              "      <td>5862</td>\n",
              "      <td>Lagunillas</td>\n",
              "      <td>2020-02-26</td>\n",
              "      <td>0</td>\n",
              "    </tr>\n",
              "    <tr>\n",
              "      <th>3</th>\n",
              "      <td>16049</td>\n",
              "      <td>18769</td>\n",
              "      <td>Madero</td>\n",
              "      <td>2020-02-26</td>\n",
              "      <td>0</td>\n",
              "    </tr>\n",
              "    <tr>\n",
              "      <th>4</th>\n",
              "      <td>5035</td>\n",
              "      <td>744247</td>\n",
              "      <td>Torreon</td>\n",
              "      <td>2020-02-26</td>\n",
              "      <td>0</td>\n",
              "    </tr>\n",
              "  </tbody>\n",
              "</table>\n",
              "</div>\n",
              "    <div class=\"colab-df-buttons\">\n",
              "\n",
              "  <div class=\"colab-df-container\">\n",
              "    <button class=\"colab-df-convert\" onclick=\"convertToInteractive('df-8132ad49-99ef-4487-b411-f322f321a31b')\"\n",
              "            title=\"Convert this dataframe to an interactive table.\"\n",
              "            style=\"display:none;\">\n",
              "\n",
              "  <svg xmlns=\"http://www.w3.org/2000/svg\" height=\"24px\" viewBox=\"0 -960 960 960\">\n",
              "    <path d=\"M120-120v-720h720v720H120Zm60-500h600v-160H180v160Zm220 220h160v-160H400v160Zm0 220h160v-160H400v160ZM180-400h160v-160H180v160Zm440 0h160v-160H620v160ZM180-180h160v-160H180v160Zm440 0h160v-160H620v160Z\"/>\n",
              "  </svg>\n",
              "    </button>\n",
              "\n",
              "  <style>\n",
              "    .colab-df-container {\n",
              "      display:flex;\n",
              "      gap: 12px;\n",
              "    }\n",
              "\n",
              "    .colab-df-convert {\n",
              "      background-color: #E8F0FE;\n",
              "      border: none;\n",
              "      border-radius: 50%;\n",
              "      cursor: pointer;\n",
              "      display: none;\n",
              "      fill: #1967D2;\n",
              "      height: 32px;\n",
              "      padding: 0 0 0 0;\n",
              "      width: 32px;\n",
              "    }\n",
              "\n",
              "    .colab-df-convert:hover {\n",
              "      background-color: #E2EBFA;\n",
              "      box-shadow: 0px 1px 2px rgba(60, 64, 67, 0.3), 0px 1px 3px 1px rgba(60, 64, 67, 0.15);\n",
              "      fill: #174EA6;\n",
              "    }\n",
              "\n",
              "    .colab-df-buttons div {\n",
              "      margin-bottom: 4px;\n",
              "    }\n",
              "\n",
              "    [theme=dark] .colab-df-convert {\n",
              "      background-color: #3B4455;\n",
              "      fill: #D2E3FC;\n",
              "    }\n",
              "\n",
              "    [theme=dark] .colab-df-convert:hover {\n",
              "      background-color: #434B5C;\n",
              "      box-shadow: 0px 1px 3px 1px rgba(0, 0, 0, 0.15);\n",
              "      filter: drop-shadow(0px 1px 2px rgba(0, 0, 0, 0.3));\n",
              "      fill: #FFFFFF;\n",
              "    }\n",
              "  </style>\n",
              "\n",
              "    <script>\n",
              "      const buttonEl =\n",
              "        document.querySelector('#df-8132ad49-99ef-4487-b411-f322f321a31b button.colab-df-convert');\n",
              "      buttonEl.style.display =\n",
              "        google.colab.kernel.accessAllowed ? 'block' : 'none';\n",
              "\n",
              "      async function convertToInteractive(key) {\n",
              "        const element = document.querySelector('#df-8132ad49-99ef-4487-b411-f322f321a31b');\n",
              "        const dataTable =\n",
              "          await google.colab.kernel.invokeFunction('convertToInteractive',\n",
              "                                                    [key], {});\n",
              "        if (!dataTable) return;\n",
              "\n",
              "        const docLinkHtml = 'Like what you see? Visit the ' +\n",
              "          '<a target=\"_blank\" href=https://colab.research.google.com/notebooks/data_table.ipynb>data table notebook</a>'\n",
              "          + ' to learn more about interactive tables.';\n",
              "        element.innerHTML = '';\n",
              "        dataTable['output_type'] = 'display_data';\n",
              "        await google.colab.output.renderOutput(dataTable, element);\n",
              "        const docLink = document.createElement('div');\n",
              "        docLink.innerHTML = docLinkHtml;\n",
              "        element.appendChild(docLink);\n",
              "      }\n",
              "    </script>\n",
              "  </div>\n",
              "\n",
              "\n",
              "    <div id=\"df-f42f0591-e256-483b-aab4-8ed04070b3cf\">\n",
              "      <button class=\"colab-df-quickchart\" onclick=\"quickchart('df-f42f0591-e256-483b-aab4-8ed04070b3cf')\"\n",
              "                title=\"Suggest charts\"\n",
              "                style=\"display:none;\">\n",
              "\n",
              "<svg xmlns=\"http://www.w3.org/2000/svg\" height=\"24px\"viewBox=\"0 0 24 24\"\n",
              "     width=\"24px\">\n",
              "    <g>\n",
              "        <path d=\"M19 3H5c-1.1 0-2 .9-2 2v14c0 1.1.9 2 2 2h14c1.1 0 2-.9 2-2V5c0-1.1-.9-2-2-2zM9 17H7v-7h2v7zm4 0h-2V7h2v10zm4 0h-2v-4h2v4z\"/>\n",
              "    </g>\n",
              "</svg>\n",
              "      </button>\n",
              "\n",
              "<style>\n",
              "  .colab-df-quickchart {\n",
              "      --bg-color: #E8F0FE;\n",
              "      --fill-color: #1967D2;\n",
              "      --hover-bg-color: #E2EBFA;\n",
              "      --hover-fill-color: #174EA6;\n",
              "      --disabled-fill-color: #AAA;\n",
              "      --disabled-bg-color: #DDD;\n",
              "  }\n",
              "\n",
              "  [theme=dark] .colab-df-quickchart {\n",
              "      --bg-color: #3B4455;\n",
              "      --fill-color: #D2E3FC;\n",
              "      --hover-bg-color: #434B5C;\n",
              "      --hover-fill-color: #FFFFFF;\n",
              "      --disabled-bg-color: #3B4455;\n",
              "      --disabled-fill-color: #666;\n",
              "  }\n",
              "\n",
              "  .colab-df-quickchart {\n",
              "    background-color: var(--bg-color);\n",
              "    border: none;\n",
              "    border-radius: 50%;\n",
              "    cursor: pointer;\n",
              "    display: none;\n",
              "    fill: var(--fill-color);\n",
              "    height: 32px;\n",
              "    padding: 0;\n",
              "    width: 32px;\n",
              "  }\n",
              "\n",
              "  .colab-df-quickchart:hover {\n",
              "    background-color: var(--hover-bg-color);\n",
              "    box-shadow: 0 1px 2px rgba(60, 64, 67, 0.3), 0 1px 3px 1px rgba(60, 64, 67, 0.15);\n",
              "    fill: var(--button-hover-fill-color);\n",
              "  }\n",
              "\n",
              "  .colab-df-quickchart-complete:disabled,\n",
              "  .colab-df-quickchart-complete:disabled:hover {\n",
              "    background-color: var(--disabled-bg-color);\n",
              "    fill: var(--disabled-fill-color);\n",
              "    box-shadow: none;\n",
              "  }\n",
              "\n",
              "  .colab-df-spinner {\n",
              "    border: 2px solid var(--fill-color);\n",
              "    border-color: transparent;\n",
              "    border-bottom-color: var(--fill-color);\n",
              "    animation:\n",
              "      spin 1s steps(1) infinite;\n",
              "  }\n",
              "\n",
              "  @keyframes spin {\n",
              "    0% {\n",
              "      border-color: transparent;\n",
              "      border-bottom-color: var(--fill-color);\n",
              "      border-left-color: var(--fill-color);\n",
              "    }\n",
              "    20% {\n",
              "      border-color: transparent;\n",
              "      border-left-color: var(--fill-color);\n",
              "      border-top-color: var(--fill-color);\n",
              "    }\n",
              "    30% {\n",
              "      border-color: transparent;\n",
              "      border-left-color: var(--fill-color);\n",
              "      border-top-color: var(--fill-color);\n",
              "      border-right-color: var(--fill-color);\n",
              "    }\n",
              "    40% {\n",
              "      border-color: transparent;\n",
              "      border-right-color: var(--fill-color);\n",
              "      border-top-color: var(--fill-color);\n",
              "    }\n",
              "    60% {\n",
              "      border-color: transparent;\n",
              "      border-right-color: var(--fill-color);\n",
              "    }\n",
              "    80% {\n",
              "      border-color: transparent;\n",
              "      border-right-color: var(--fill-color);\n",
              "      border-bottom-color: var(--fill-color);\n",
              "    }\n",
              "    90% {\n",
              "      border-color: transparent;\n",
              "      border-bottom-color: var(--fill-color);\n",
              "    }\n",
              "  }\n",
              "</style>\n",
              "\n",
              "      <script>\n",
              "        async function quickchart(key) {\n",
              "          const quickchartButtonEl =\n",
              "            document.querySelector('#' + key + ' button');\n",
              "          quickchartButtonEl.disabled = true;  // To prevent multiple clicks.\n",
              "          quickchartButtonEl.classList.add('colab-df-spinner');\n",
              "          try {\n",
              "            const charts = await google.colab.kernel.invokeFunction(\n",
              "                'suggestCharts', [key], {});\n",
              "          } catch (error) {\n",
              "            console.error('Error during call to suggestCharts:', error);\n",
              "          }\n",
              "          quickchartButtonEl.classList.remove('colab-df-spinner');\n",
              "          quickchartButtonEl.classList.add('colab-df-quickchart-complete');\n",
              "        }\n",
              "        (() => {\n",
              "          let quickchartButtonEl =\n",
              "            document.querySelector('#df-f42f0591-e256-483b-aab4-8ed04070b3cf button');\n",
              "          quickchartButtonEl.style.display =\n",
              "            google.colab.kernel.accessAllowed ? 'block' : 'none';\n",
              "        })();\n",
              "      </script>\n",
              "    </div>\n",
              "\n",
              "    </div>\n",
              "  </div>\n"
            ],
            "application/vnd.google.colaboratory.intrinsic+json": {
              "type": "dataframe",
              "variable_name": "df_long"
            }
          },
          "metadata": {},
          "execution_count": 23
        }
      ]
    },
    {
      "cell_type": "markdown",
      "source": [
        "## EDA"
      ],
      "metadata": {
        "id": "Aa_e-j-imOgM"
      }
    },
    {
      "cell_type": "code",
      "source": [
        "df_long.info()\n",
        "df_long.describe(include='all')\n",
        "df_long.isnull().sum()"
      ],
      "metadata": {
        "colab": {
          "base_uri": "https://localhost:8080/",
          "height": 449
        },
        "id": "2StBZwGimOLJ",
        "outputId": "ed5baa18-427c-40e5-ae50-2236f24ef8d1"
      },
      "execution_count": 24,
      "outputs": [
        {
          "output_type": "stream",
          "name": "stdout",
          "text": [
            "<class 'pandas.core.frame.DataFrame'>\n",
            "RangeIndex: 2985255 entries, 0 to 2985254\n",
            "Data columns (total 5 columns):\n",
            " #   Column     Dtype         \n",
            "---  ------     -----         \n",
            " 0   cve_ent    int64         \n",
            " 1   poblacion  int64         \n",
            " 2   nombre     object        \n",
            " 3   fecha      datetime64[ns]\n",
            " 4   casos      int64         \n",
            "dtypes: datetime64[ns](1), int64(3), object(1)\n",
            "memory usage: 113.9+ MB\n"
          ]
        },
        {
          "output_type": "execute_result",
          "data": {
            "text/plain": [
              "cve_ent      0\n",
              "poblacion    0\n",
              "nombre       0\n",
              "fecha        0\n",
              "casos        0\n",
              "dtype: int64"
            ],
            "text/html": [
              "<div>\n",
              "<style scoped>\n",
              "    .dataframe tbody tr th:only-of-type {\n",
              "        vertical-align: middle;\n",
              "    }\n",
              "\n",
              "    .dataframe tbody tr th {\n",
              "        vertical-align: top;\n",
              "    }\n",
              "\n",
              "    .dataframe thead th {\n",
              "        text-align: right;\n",
              "    }\n",
              "</style>\n",
              "<table border=\"1\" class=\"dataframe\">\n",
              "  <thead>\n",
              "    <tr style=\"text-align: right;\">\n",
              "      <th></th>\n",
              "      <th>0</th>\n",
              "    </tr>\n",
              "  </thead>\n",
              "  <tbody>\n",
              "    <tr>\n",
              "      <th>cve_ent</th>\n",
              "      <td>0</td>\n",
              "    </tr>\n",
              "    <tr>\n",
              "      <th>poblacion</th>\n",
              "      <td>0</td>\n",
              "    </tr>\n",
              "    <tr>\n",
              "      <th>nombre</th>\n",
              "      <td>0</td>\n",
              "    </tr>\n",
              "    <tr>\n",
              "      <th>fecha</th>\n",
              "      <td>0</td>\n",
              "    </tr>\n",
              "    <tr>\n",
              "      <th>casos</th>\n",
              "      <td>0</td>\n",
              "    </tr>\n",
              "  </tbody>\n",
              "</table>\n",
              "</div><br><label><b>dtype:</b> int64</label>"
            ]
          },
          "metadata": {},
          "execution_count": 24
        }
      ]
    },
    {
      "cell_type": "code",
      "source": [
        "print(f\"Rango de fechas: {df_long['fecha'].min()} → {df_long['fecha'].max()}\")\n",
        "print(f\"Número de municipios únicos: {df_long['nombre'].nunique()}\")\n",
        "print(f\"Número total de registros: {df_long.shape[0]}\")"
      ],
      "metadata": {
        "colab": {
          "base_uri": "https://localhost:8080/"
        },
        "id": "7pABmI5wmZkG",
        "outputId": "2ce5a2dc-3e16-4e00-ee01-d6b7cb652c5e"
      },
      "execution_count": 25,
      "outputs": [
        {
          "output_type": "stream",
          "name": "stdout",
          "text": [
            "Rango de fechas: 2020-02-26 00:00:00 → 2023-06-24 00:00:00\n",
            "Número de municipios únicos: 2318\n",
            "Número total de registros: 2985255\n"
          ]
        }
      ]
    },
    {
      "cell_type": "code",
      "source": [
        "casos_totales = df_long.groupby('nombre')['casos'].sum().sort_values(ascending=False)\n",
        "print(\"Top 10 municipios con más casos acumulados:\")\n",
        "print(casos_totales.head(10))"
      ],
      "metadata": {
        "colab": {
          "base_uri": "https://localhost:8080/"
        },
        "id": "g6XX8RtkmiRU",
        "outputId": "e85dffcd-03b9-410b-b4dd-5c050d6f9e6d"
      },
      "execution_count": 26,
      "outputs": [
        {
          "output_type": "stream",
          "name": "stdout",
          "text": [
            "Top 10 municipios con más casos acumulados:\n",
            "nombre\n",
            "Iztapalapa           275879\n",
            "Alvaro Obregon       243002\n",
            "Gustavo A. Madero    233390\n",
            "Tlalpan              188182\n",
            "San Luis Potosi      157931\n",
            "Benito Juarez        153889\n",
            "Puebla               146151\n",
            "Leon                 138982\n",
            "Queretaro            126222\n",
            "Monterrey            121301\n",
            "Name: casos, dtype: int64\n"
          ]
        }
      ]
    },
    {
      "cell_type": "code",
      "source": [
        "evolucion_nacional = df_long.groupby('fecha')['casos'].sum()\n",
        "\n",
        "evolucion_nacional.rolling(7).mean().plot(figsize=(12,5), title='Casos diarios de COVID (nacional, promedio móvil 7 días)')\n",
        "plt.xlabel(\"Fecha\")\n",
        "plt.ylabel(\"Casos diarios\")\n",
        "plt.grid(True)\n",
        "plt.show()\n"
      ],
      "metadata": {
        "colab": {
          "base_uri": "https://localhost:8080/",
          "height": 504
        },
        "id": "oCmv8a8NmonC",
        "outputId": "7fcd04cf-89a5-4acf-b7d8-3cd8d82e2f5f"
      },
      "execution_count": 27,
      "outputs": [
        {
          "output_type": "display_data",
          "data": {
            "text/plain": [
              "<Figure size 1200x500 with 1 Axes>"
            ],
            "image/png": "[encoded data removed]"
          },
          "metadata": {}
        }
      ]
    },
    {
      "cell_type": "code",
      "source": [
        "casos_por_mpio = df_long.groupby(['nombre', 'poblacion'])['casos'].sum().reset_index()\n",
        "casos_por_mpio['casos_por_100mil'] = casos_por_mpio['casos'] / casos_por_mpio['poblacion'] * 1e5\n",
        "\n",
        "casos_por_mpio.sort_values(by='casos_por_100mil', ascending=False).head(10)\n"
      ],
      "metadata": {
        "colab": {
          "base_uri": "https://localhost:8080/",
          "height": 363
        },
        "id": "VECcWW8hmwSm",
        "outputId": "307fea9e-f97b-4cab-fd3f-009e629df06e"
      },
      "execution_count": 28,
      "outputs": [
        {
          "output_type": "execute_result",
          "data": {
            "text/plain": [
              "                      nombre  poblacion   casos  casos_por_100mil\n",
              "86            Alvaro Obregon     755537  242735      32127.480190\n",
              "1026              Milpa Alta     139371   40357      28956.526107\n",
              "2182                 Tlalpan     682234  188182      27583.204590\n",
              "200             Azcapotzalco     408441  106856      26161.918123\n",
              "2168                 Tlahuac     366586   91575      24980.495709\n",
              "2376              Xochimilco     418060   99260      23743.003397\n",
              "882   La Magdalena Contreras     245147   54096      22066.759944\n",
              "161                 Atizapan      12511    2633      21045.479978\n",
              "887                   La Paz     301961   62244      20613.258004\n",
              "791                Iztacalco     393821   80089      20336.396485"
            ],
            "text/html": [
              "\n",
              "  <div id=\"df-db819a4c-dfeb-4fe4-be5c-a5b4638f4215\" class=\"colab-df-container\">\n",
              "    <div>\n",
              "<style scoped>\n",
              "    .dataframe tbody tr th:only-of-type {\n",
              "        vertical-align: middle;\n",
              "    }\n",
              "\n",
              "    .dataframe tbody tr th {\n",
              "        vertical-align: top;\n",
              "    }\n",
              "\n",
              "    .dataframe thead th {\n",
              "        text-align: right;\n",
              "    }\n",
              "</style>\n",
              "<table border=\"1\" class=\"dataframe\">\n",
              "  <thead>\n",
              "    <tr style=\"text-align: right;\">\n",
              "      <th></th>\n",
              "      <th>nombre</th>\n",
              "      <th>poblacion</th>\n",
              "      <th>casos</th>\n",
              "      <th>casos_por_100mil</th>\n",
              "    </tr>\n",
              "  </thead>\n",
              "  <tbody>\n",
              "    <tr>\n",
              "      <th>86</th>\n",
              "      <td>Alvaro Obregon</td>\n",
              "      <td>755537</td>\n",
              "      <td>242735</td>\n",
              "      <td>32127.480190</td>\n",
              "    </tr>\n",
              "    <tr>\n",
              "      <th>1026</th>\n",
              "      <td>Milpa Alta</td>\n",
              "      <td>139371</td>\n",
              "      <td>40357</td>\n",
              "      <td>28956.526107</td>\n",
              "    </tr>\n",
              "    <tr>\n",
              "      <th>2182</th>\n",
              "      <td>Tlalpan</td>\n",
              "      <td>682234</td>\n",
              "      <td>188182</td>\n",
              "      <td>27583.204590</td>\n",
              "    </tr>\n",
              "    <tr>\n",
              "      <th>200</th>\n",
              "      <td>Azcapotzalco</td>\n",
              "      <td>408441</td>\n",
              "      <td>106856</td>\n",
              "      <td>26161.918123</td>\n",
              "    </tr>\n",
              "    <tr>\n",
              "      <th>2168</th>\n",
              "      <td>Tlahuac</td>\n",
              "      <td>366586</td>\n",
              "      <td>91575</td>\n",
              "      <td>24980.495709</td>\n",
              "    </tr>\n",
              "    <tr>\n",
              "      <th>2376</th>\n",
              "      <td>Xochimilco</td>\n",
              "      <td>418060</td>\n",
              "      <td>99260</td>\n",
              "      <td>23743.003397</td>\n",
              "    </tr>\n",
              "    <tr>\n",
              "      <th>882</th>\n",
              "      <td>La Magdalena Contreras</td>\n",
              "      <td>245147</td>\n",
              "      <td>54096</td>\n",
              "      <td>22066.759944</td>\n",
              "    </tr>\n",
              "    <tr>\n",
              "      <th>161</th>\n",
              "      <td>Atizapan</td>\n",
              "      <td>12511</td>\n",
              "      <td>2633</td>\n",
              "      <td>21045.479978</td>\n",
              "    </tr>\n",
              "    <tr>\n",
              "      <th>887</th>\n",
              "      <td>La Paz</td>\n",
              "      <td>301961</td>\n",
              "      <td>62244</td>\n",
              "      <td>20613.258004</td>\n",
              "    </tr>\n",
              "    <tr>\n",
              "      <th>791</th>\n",
              "      <td>Iztacalco</td>\n",
              "      <td>393821</td>\n",
              "      <td>80089</td>\n",
              "      <td>20336.396485</td>\n",
              "    </tr>\n",
              "  </tbody>\n",
              "</table>\n",
              "</div>\n",
              "    <div class=\"colab-df-buttons\">\n",
              "\n",
              "  <div class=\"colab-df-container\">\n",
              "    <button class=\"colab-df-convert\" onclick=\"convertToInteractive('df-db819a4c-dfeb-4fe4-be5c-a5b4638f4215')\"\n",
              "            title=\"Convert this dataframe to an interactive table.\"\n",
              "            style=\"display:none;\">\n",
              "\n",
              "  <svg xmlns=\"http://www.w3.org/2000/svg\" height=\"24px\" viewBox=\"0 -960 960 960\">\n",
              "    <path d=\"M120-120v-720h720v720H120Zm60-500h600v-160H180v160Zm220 220h160v-160H400v160Zm0 220h160v-160H400v160ZM180-400h160v-160H180v160Zm440 0h160v-160H620v160ZM180-180h160v-160H180v160Zm440 0h160v-160H620v160Z\"/>\n",
              "  </svg>\n",
              "    </button>\n",
              "\n",
              "  <style>\n",
              "    .colab-df-container {\n",
              "      display:flex;\n",
              "      gap: 12px;\n",
              "    }\n",
              "\n",
              "    .colab-df-convert {\n",
              "      background-color: #E8F0FE;\n",
              "      border: none;\n",
              "      border-radius: 50%;\n",
              "      cursor: pointer;\n",
              "      display: none;\n",
              "      fill: #1967D2;\n",
              "      height: 32px;\n",
              "      padding: 0 0 0 0;\n",
              "      width: 32px;\n",
              "    }\n",
              "\n",
              "    .colab-df-convert:hover {\n",
              "      background-color: #E2EBFA;\n",
              "      box-shadow: 0px 1px 2px rgba(60, 64, 67, 0.3), 0px 1px 3px 1px rgba(60, 64, 67, 0.15);\n",
              "      fill: #174EA6;\n",
              "    }\n",
              "\n",
              "    .colab-df-buttons div {\n",
              "      margin-bottom: 4px;\n",
              "    }\n",
              "\n",
              "    [theme=dark] .colab-df-convert {\n",
              "      background-color: #3B4455;\n",
              "      fill: #D2E3FC;\n",
              "    }\n",
              "\n",
              "    [theme=dark] .colab-df-convert:hover {\n",
              "      background-color: #434B5C;\n",
              "      box-shadow: 0px 1px 3px 1px rgba(0, 0, 0, 0.15);\n",
              "      filter: drop-shadow(0px 1px 2px rgba(0, 0, 0, 0.3));\n",
              "      fill: #FFFFFF;\n",
              "    }\n",
              "  </style>\n",
              "\n",
              "    <script>\n",
              "      const buttonEl =\n",
              "        document.querySelector('#df-db819a4c-dfeb-4fe4-be5c-a5b4638f4215 button.colab-df-convert');\n",
              "      buttonEl.style.display =\n",
              "        google.colab.kernel.accessAllowed ? 'block' : 'none';\n",
              "\n",
              "      async function convertToInteractive(key) {\n",
              "        const element = document.querySelector('#df-db819a4c-dfeb-4fe4-be5c-a5b4638f4215');\n",
              "        const dataTable =\n",
              "          await google.colab.kernel.invokeFunction('convertToInteractive',\n",
              "                                                    [key], {});\n",
              "        if (!dataTable) return;\n",
              "\n",
              "        const docLinkHtml = 'Like what you see? Visit the ' +\n",
              "          '<a target=\"_blank\" href=https://colab.research.google.com/notebooks/data_table.ipynb>data table notebook</a>'\n",
              "          + ' to learn more about interactive tables.';\n",
              "        element.innerHTML = '';\n",
              "        dataTable['output_type'] = 'display_data';\n",
              "        await google.colab.output.renderOutput(dataTable, element);\n",
              "        const docLink = document.createElement('div');\n",
              "        docLink.innerHTML = docLinkHtml;\n",
              "        element.appendChild(docLink);\n",
              "      }\n",
              "    </script>\n",
              "  </div>\n",
              "\n",
              "\n",
              "    <div id=\"df-2ebee801-d548-4623-a9e9-23de5eadaba2\">\n",
              "      <button class=\"colab-df-quickchart\" onclick=\"quickchart('df-2ebee801-d548-4623-a9e9-23de5eadaba2')\"\n",
              "                title=\"Suggest charts\"\n",
              "                style=\"display:none;\">\n",
              "\n",
              "<svg xmlns=\"http://www.w3.org/2000/svg\" height=\"24px\"viewBox=\"0 0 24 24\"\n",
              "     width=\"24px\">\n",
              "    <g>\n",
              "        <path d=\"M19 3H5c-1.1 0-2 .9-2 2v14c0 1.1.9 2 2 2h14c1.1 0 2-.9 2-2V5c0-1.1-.9-2-2-2zM9 17H7v-7h2v7zm4 0h-2V7h2v10zm4 0h-2v-4h2v4z\"/>\n",
              "    </g>\n",
              "</svg>\n",
              "      </button>\n",
              "\n",
              "<style>\n",
              "  .colab-df-quickchart {\n",
              "      --bg-color: #E8F0FE;\n",
              "      --fill-color: #1967D2;\n",
              "      --hover-bg-color: #E2EBFA;\n",
              "      --hover-fill-color: #174EA6;\n",
              "      --disabled-fill-color: #AAA;\n",
              "      --disabled-bg-color: #DDD;\n",
              "  }\n",
              "\n",
              "  [theme=dark] .colab-df-quickchart {\n",
              "      --bg-color: #3B4455;\n",
              "      --fill-color: #D2E3FC;\n",
              "      --hover-bg-color: #434B5C;\n",
              "      --hover-fill-color: #FFFFFF;\n",
              "      --disabled-bg-color: #3B4455;\n",
              "      --disabled-fill-color: #666;\n",
              "  }\n",
              "\n",
              "  .colab-df-quickchart {\n",
              "    background-color: var(--bg-color);\n",
              "    border: none;\n",
              "    border-radius: 50%;\n",
              "    cursor: pointer;\n",
              "    display: none;\n",
              "    fill: var(--fill-color);\n",
              "    height: 32px;\n",
              "    padding: 0;\n",
              "    width: 32px;\n",
              "  }\n",
              "\n",
              "  .colab-df-quickchart:hover {\n",
              "    background-color: var(--hover-bg-color);\n",
              "    box-shadow: 0 1px 2px rgba(60, 64, 67, 0.3), 0 1px 3px 1px rgba(60, 64, 67, 0.15);\n",
              "    fill: var(--button-hover-fill-color);\n",
              "  }\n",
              "\n",
              "  .colab-df-quickchart-complete:disabled,\n",
              "  .colab-df-quickchart-complete:disabled:hover {\n",
              "    background-color: var(--disabled-bg-color);\n",
              "    fill: var(--disabled-fill-color);\n",
              "    box-shadow: none;\n",
              "  }\n",
              "\n",
              "  .colab-df-spinner {\n",
              "    border: 2px solid var(--fill-color);\n",
              "    border-color: transparent;\n",
              "    border-bottom-color: var(--fill-color);\n",
              "    animation:\n",
              "      spin 1s steps(1) infinite;\n",
              "  }\n",
              "\n",
              "  @keyframes spin {\n",
              "    0% {\n",
              "      border-color: transparent;\n",
              "      border-bottom-color: var(--fill-color);\n",
              "      border-left-color: var(--fill-color);\n",
              "    }\n",
              "    20% {\n",
              "      border-color: transparent;\n",
              "      border-left-color: var(--fill-color);\n",
              "      border-top-color: var(--fill-color);\n",
              "    }\n",
              "    30% {\n",
              "      border-color: transparent;\n",
              "      border-left-color: var(--fill-color);\n",
              "      border-top-color: var(--fill-color);\n",
              "      border-right-color: var(--fill-color);\n",
              "    }\n",
              "    40% {\n",
              "      border-color: transparent;\n",
              "      border-right-color: var(--fill-color);\n",
              "      border-top-color: var(--fill-color);\n",
              "    }\n",
              "    60% {\n",
              "      border-color: transparent;\n",
              "      border-right-color: var(--fill-color);\n",
              "    }\n",
              "    80% {\n",
              "      border-color: transparent;\n",
              "      border-right-color: var(--fill-color);\n",
              "      border-bottom-color: var(--fill-color);\n",
              "    }\n",
              "    90% {\n",
              "      border-color: transparent;\n",
              "      border-bottom-color: var(--fill-color);\n",
              "    }\n",
              "  }\n",
              "</style>\n",
              "\n",
              "      <script>\n",
              "        async function quickchart(key) {\n",
              "          const quickchartButtonEl =\n",
              "            document.querySelector('#' + key + ' button');\n",
              "          quickchartButtonEl.disabled = true;  // To prevent multiple clicks.\n",
              "          quickchartButtonEl.classList.add('colab-df-spinner');\n",
              "          try {\n",
              "            const charts = await google.colab.kernel.invokeFunction(\n",
              "                'suggestCharts', [key], {});\n",
              "          } catch (error) {\n",
              "            console.error('Error during call to suggestCharts:', error);\n",
              "          }\n",
              "          quickchartButtonEl.classList.remove('colab-df-spinner');\n",
              "          quickchartButtonEl.classList.add('colab-df-quickchart-complete');\n",
              "        }\n",
              "        (() => {\n",
              "          let quickchartButtonEl =\n",
              "            document.querySelector('#df-2ebee801-d548-4623-a9e9-23de5eadaba2 button');\n",
              "          quickchartButtonEl.style.display =\n",
              "            google.colab.kernel.accessAllowed ? 'block' : 'none';\n",
              "        })();\n",
              "      </script>\n",
              "    </div>\n",
              "\n",
              "    </div>\n",
              "  </div>\n"
            ],
            "application/vnd.google.colaboratory.intrinsic+json": {
              "type": "dataframe",
              "summary": "{\n  \"name\": \"casos_por_mpio\",\n  \"rows\": 10,\n  \"fields\": [\n    {\n      \"column\": \"nombre\",\n      \"properties\": {\n        \"dtype\": \"string\",\n        \"num_unique_values\": 10,\n        \"samples\": [\n          \"La Paz\",\n          \"Milpa Alta\",\n          \"Xochimilco\"\n        ],\n        \"semantic_type\": \"\",\n        \"description\": \"\"\n      }\n    },\n    {\n      \"column\": \"poblacion\",\n      \"properties\": {\n        \"dtype\": \"number\",\n        \"std\": 224015,\n        \"min\": 12511,\n        \"max\": 755537,\n        \"num_unique_values\": 10,\n        \"samples\": [\n          301961,\n          139371,\n          418060\n        ],\n        \"semantic_type\": \"\",\n        \"description\": \"\"\n      }\n    },\n    {\n      \"column\": \"casos\",\n      \"properties\": {\n        \"dtype\": \"number\",\n        \"std\": 70814,\n        \"min\": 2633,\n        \"max\": 242735,\n        \"num_unique_values\": 10,\n        \"samples\": [\n          62244,\n          40357,\n          99260\n        ],\n        \"semantic_type\": \"\",\n        \"description\": \"\"\n      }\n    },\n    {\n      \"column\": \"casos_por_100mil\",\n      \"properties\": {\n        \"dtype\": \"number\",\n        \"std\": 3954.2420524661466,\n        \"min\": 20336.396484697365,\n        \"max\": 32127.48018958701,\n        \"num_unique_values\": 10,\n        \"samples\": [\n          20613.25800351701,\n          28956.526106578844,\n          23743.00339664163\n        ],\n        \"semantic_type\": \"\",\n        \"description\": \"\"\n      }\n    }\n  ]\n}"
            }
          },
          "metadata": {},
          "execution_count": 28
        }
      ]
    },
    {
      "cell_type": "code",
      "source": [
        "plt.figure(figsize=(12,5))\n",
        "sns.boxplot(data=df_long, x='casos')\n",
        "plt.xscale('log')  # para ver mejor si hay picos grandes\n",
        "plt.title(\"Distribución de casos diarios (log scale)\")\n",
        "plt.grid(True)\n",
        "plt.show()\n"
      ],
      "metadata": {
        "colab": {
          "base_uri": "https://localhost:8080/",
          "height": 492
        },
        "id": "2GjdWhaum4K6",
        "outputId": "f20038ac-3a36-4b7b-aa37-8a11ca14b9e7"
      },
      "execution_count": 29,
      "outputs": [
        {
          "output_type": "display_data",
          "data": {
            "text/plain": [
              "<Figure size 1200x500 with 1 Axes>"
            ],
            "image/png": "[encoded data removed]"
          },
          "metadata": {}
        }
      ]
    },
    {
      "cell_type": "markdown",
      "source": [
        "## Deeplearning"
      ],
      "metadata": {
        "id": "CKQx7zomoXym"
      }
    },
    {
      "cell_type": "code",
      "source": [
        "\n",
        "# Filtrar\n",
        "municipio = 'Azcapotzalco'\n",
        "serie = df_long[df_long['nombre'] == municipio].sort_values('fecha')\n",
        "\n",
        "# Resetear índices\n",
        "serie.reset_index(drop=True, inplace=True)\n",
        "# Graficar serie original y suavizada\n",
        "serie_suave = pd.Series(serie['casos']).rolling(window=7, center=True).mean()\n",
        "plt.figure(figsize=(12, 5))\n",
        "plt.plot(serie['fecha'], serie['casos'], label='Serie original', color='lightgray')\n",
        "plt.plot(serie['fecha'], serie_suave, label='Serie suavizada (media móvil)', color='blue')\n",
        "\n",
        "plt.title(f'Casos diarios en {municipio} – Serie original vs suavizada')\n",
        "plt.xlabel('Fecha')\n",
        "plt.ylabel('Casos diarios')\n",
        "plt.grid(True)\n",
        "plt.legend()\n",
        "plt.tight_layout()\n",
        "plt.show()\n"
      ],
      "metadata": {
        "colab": {
          "base_uri": "https://localhost:8080/",
          "height": 507
        },
        "id": "SL3HQx28m-kh",
        "outputId": "2e71f66d-b59b-4550-c68e-7551a2160b1a"
      },
      "execution_count": 36,
      "outputs": [
        {
          "output_type": "display_data",
          "data": {
            "text/plain": [
              "<Figure size 1200x500 with 1 Axes>"
            ],
            "image/png": "[encoded data removed]"
          },
          "metadata": {}
        }
      ]
    },
    {
      "cell_type": "markdown",
      "source": [
        "### 🧮 ¿Por qué se elige `StandardScaler` en lugar de `MinMaxScaler`?\n",
        "\n",
        "Al trabajar con series temporales y redes neuronales como LSTM, es importante normalizar la escala de los datos. Las dos opciones más comunes son:\n",
        "\n",
        "---\n",
        "\n",
        "#### ✅ `StandardScaler`\n",
        "- Transforma los datos para que tengan **media 0** y **desviación estándar 1**.\n",
        "- Fórmula:\n",
        "  $$\n",
        "  x_{\\text{scaled}} = \\frac{x - \\mu}{\\sigma}\n",
        "  $$\n",
        "- **Ventajas:**\n",
        "  - Ideal para datos con **distribuciones centradas** o con **outliers moderados**.\n",
        "  - Más **robusto que `MinMaxScaler`** cuando hay valores extremos.\n",
        "  - Mejora la estabilidad y convergencia durante el entrenamiento del modelo.\n",
        "\n",
        "---\n",
        "\n",
        "#### ❌ `MinMaxScaler`\n",
        "- Escala los datos al rango **[0, 1]**:\n",
        "  $$\n",
        "  x_{\\text{scaled}} = \\frac{x - x_{\\min}}{x_{\\max} - x_{\\min}}\n",
        "  $$\n",
        "- **Problema**: en presencia de **outliers grandes**, la mayoría de los valores quedan \"aplastados\" en un rango pequeño, afectando la señal de aprendizaje del modelo.\n",
        "\n",
        "---\n",
        "\n",
        "### 📌 Conclusión\n",
        "> En este proyecto se utiliza `StandardScaler` porque los casos diarios de COVID presentan valores variables y algunos outliers. Esta técnica preserva mejor la estructura interna de los datos sin ser distorsionada por extremos.\n"
      ],
      "metadata": {
        "id": "9ngDycnBofYe"
      }
    },
    {
      "cell_type": "code",
      "source": [
        "serie_suave_limpia = serie_suave.dropna().values.reshape(-1, 1)  # reshaping para usar con StandardScaler\n",
        "\n",
        "# Escalar la serie suavizada\n",
        "scaler = StandardScaler()\n",
        "serie_norm = scaler.fit_transform(serie_suave_limpia)"
      ],
      "metadata": {
        "id": "7Gb9dW5Jh7Gb"
      },
      "execution_count": 37,
      "outputs": []
    },
    {
      "cell_type": "markdown",
      "source": [
        "## Division"
      ],
      "metadata": {
        "id": "18cXsJEqolKs"
      }
    },
    {
      "cell_type": "code",
      "source": [
        "# Crear ventanas\n",
        "n_pasos = 30\n",
        "X, y = crear_ventanas(serie_norm, n_pasos)\n",
        "\n",
        "# Tamaños de conjunto\n",
        "total = len(X)\n",
        "train_size = int(total * 0.7)\n",
        "val_size = int(total * 0.15)\n",
        "test_size = total - train_size - val_size  # el resto\n",
        "\n",
        "# División sin barajar\n",
        "X_train, y_train = X[:train_size], y[:train_size]\n",
        "X_val, y_val     = X[train_size:train_size + val_size], y[train_size:train_size + val_size]\n",
        "X_test, y_test   = X[train_size + val_size:], y[train_size + val_size:]\n",
        "print(f\"Train: {X_train.shape}\")\n",
        "print(f\"Val: {X_val.shape}\")\n",
        "print(f\"Test: {X_test.shape}\")"
      ],
      "metadata": {
        "colab": {
          "base_uri": "https://localhost:8080/"
        },
        "id": "MWSPDXJOjxq_",
        "outputId": "f8c2d961-df28-4f95-f753-952431ea4024"
      },
      "execution_count": 38,
      "outputs": [
        {
          "output_type": "stream",
          "name": "stdout",
          "text": [
            "Train: (825, 30, 1)\n",
            "Val: (176, 30, 1)\n",
            "Test: (178, 30, 1)\n"
          ]
        }
      ]
    },
    {
      "cell_type": "markdown",
      "source": [
        "### 🧠 Arquitectura del modelo LSTM utilizado\n",
        "\n",
        "Este modelo utiliza una red neuronal basada en **LSTM (Long Short-Term Memory)** para predecir series temporales de casos diarios de COVID-19. Se entrena con secuencias de los últimos *n* días para predecir el siguiente valor (o varios futuros, si se usa predicción multi-step).\n",
        "\n",
        "## 🧩 Capas del modelo:\n",
        "- Input Layer\n",
        "\n",
        "  - Forma: (n_pasos, 1)\n",
        "\n",
        "  - Cada muestra es una secuencia de n_pasos días, con 1 feature (casos diarios).\n",
        "\n",
        "- Bidirectional LSTM\n",
        "\n",
        "  - 64 unidades ocultas\n",
        "\n",
        "  - Usa activación ReLU (relu)\n",
        "\n",
        "  - Procesa la secuencia en ambas direcciones (adelante y atrás), lo cual ayuda a capturar patrones más ricos en series que tienen dependencia simétrica o retardos.\n",
        "\n",
        "- Dense Layer\n",
        "\n",
        "  - Una capa totalmente conectada con 1 neurona de salida\n",
        "\n",
        "  - Produce una predicción escalar (casos del siguiente día)\n",
        "\n",
        "## ⚙️ Hiperparámetros relevantes\n",
        "- n_pasos: 30 (días usados como entrada)\n",
        "\n",
        "- activation: 'relu' en lugar de 'tanh' por rendimiento observado en este dataset\n",
        "\n",
        "- optimizer: 'adam'\n",
        "\n",
        "- loss: 'mse' (error cuadrático medio)\n",
        "\n",
        "## ✅ Justificación del uso de LSTM Bidireccional\n",
        "La LSTM tradicional procesa la secuencia de forma unidireccional (de t₁ a tₙ). La LSTM bidireccional procesa la secuencia en ambos sentidos, lo que:\n",
        "\n",
        "- Mejora el aprendizaje de patrones simétricos o recurrentes.\n",
        "\n",
        "- Es útil cuando toda la secuencia de entrada está disponible y no se requiere inferencia en tiempo real.\n",
        "\n"
      ],
      "metadata": {
        "id": "rbD3ARQmorXv"
      }
    },
    {
      "cell_type": "code",
      "source": [
        "# ========================================\n",
        "model = Sequential([\n",
        "    Input(shape=(n_pasos, 1)),\n",
        "    Bidirectional(LSTM(64, return_sequences=False)),\n",
        "    Dense(1)\n",
        "])\n",
        "\n",
        "model.summary()\n",
        "\n",
        "model.compile(optimizer='adam', loss='mse')\n",
        "\n",
        "early_stop = EarlyStopping(monitor='val_loss', patience=10, restore_best_weights=True)"
      ],
      "metadata": {
        "colab": {
          "base_uri": "https://localhost:8080/",
          "height": 196
        },
        "id": "TUB0Kfntj3rx",
        "outputId": "f3dcfcf0-4224-492f-934e-50c578af671d"
      },
      "execution_count": 39,
      "outputs": [
        {
          "output_type": "display_data",
          "data": {
            "text/plain": [
              "\u001b[1mModel: \"sequential_3\"\u001b[0m\n"
            ],
            "text/html": [
              "<pre style=\"white-space:pre;overflow-x:auto;line-height:normal;font-family:Menlo,'DejaVu Sans Mono',consolas,'Courier New',monospace\"><span style=\"font-weight: bold\">Model: \"sequential_3\"</span>\n",
              "</pre>\n"
            ]
          },
          "metadata": {}
        },
        {
          "output_type": "display_data",
          "data": {
            "text/plain": [
              "┏━━━━━━━━━━━━━━━━━━━━━━━━━━━━━━━━━┳━━━━━━━━━━━━━━━━━━━━━━━━┳━━━━━━━━━━━━━━━┓\n",
              "┃\u001b[1m \u001b[0m\u001b[1mLayer (type)                   \u001b[0m\u001b[1m \u001b[0m┃\u001b[1m \u001b[0m\u001b[1mOutput Shape          \u001b[0m\u001b[1m \u001b[0m┃\u001b[1m \u001b[0m\u001b[1m      Param #\u001b[0m\u001b[1m \u001b[0m┃\n",
              "┡━━━━━━━━━━━━━━━━━━━━━━━━━━━━━━━━━╇━━━━━━━━━━━━━━━━━━━━━━━━╇━━━━━━━━━━━━━━━┩\n",
              "│ bidirectional_3 (\u001b[38;5;33mBidirectional\u001b[0m) │ (\u001b[38;5;45mNone\u001b[0m, \u001b[38;5;34m128\u001b[0m)            │        \u001b[38;5;34m33,792\u001b[0m │\n",
              "├─────────────────────────────────┼────────────────────────┼───────────────┤\n",
              "│ dense_3 (\u001b[38;5;33mDense\u001b[0m)                 │ (\u001b[38;5;45mNone\u001b[0m, \u001b[38;5;34m1\u001b[0m)              │           \u001b[38;5;34m129\u001b[0m │\n",
              "└─────────────────────────────────┴────────────────────────┴───────────────┘\n"
            ],
            "text/html": [
              "<pre style=\"white-space:pre;overflow-x:auto;line-height:normal;font-family:Menlo,'DejaVu Sans Mono',consolas,'Courier New',monospace\">┏━━━━━━━━━━━━━━━━━━━━━━━━━━━━━━━━━┳━━━━━━━━━━━━━━━━━━━━━━━━┳━━━━━━━━━━━━━━━┓\n",
              "┃<span style=\"font-weight: bold\"> Layer (type)                    </span>┃<span style=\"font-weight: bold\"> Output Shape           </span>┃<span style=\"font-weight: bold\">       Param # </span>┃\n",
              "┡━━━━━━━━━━━━━━━━━━━━━━━━━━━━━━━━━╇━━━━━━━━━━━━━━━━━━━━━━━━╇━━━━━━━━━━━━━━━┩\n",
              "│ bidirectional_3 (<span style=\"color: #0087ff; text-decoration-color: #0087ff\">Bidirectional</span>) │ (<span style=\"color: #00d7ff; text-decoration-color: #00d7ff\">None</span>, <span style=\"color: #00af00; text-decoration-color: #00af00\">128</span>)            │        <span style=\"color: #00af00; text-decoration-color: #00af00\">33,792</span> │\n",
              "├─────────────────────────────────┼────────────────────────┼───────────────┤\n",
              "│ dense_3 (<span style=\"color: #0087ff; text-decoration-color: #0087ff\">Dense</span>)                 │ (<span style=\"color: #00d7ff; text-decoration-color: #00d7ff\">None</span>, <span style=\"color: #00af00; text-decoration-color: #00af00\">1</span>)              │           <span style=\"color: #00af00; text-decoration-color: #00af00\">129</span> │\n",
              "└─────────────────────────────────┴────────────────────────┴───────────────┘\n",
              "</pre>\n"
            ]
          },
          "metadata": {}
        },
        {
          "output_type": "display_data",
          "data": {
            "text/plain": [
              "\u001b[1m Total params: \u001b[0m\u001b[38;5;34m33,921\u001b[0m (132.50 KB)\n"
            ],
            "text/html": [
              "<pre style=\"white-space:pre;overflow-x:auto;line-height:normal;font-family:Menlo,'DejaVu Sans Mono',consolas,'Courier New',monospace\"><span style=\"font-weight: bold\"> Total params: </span><span style=\"color: #00af00; text-decoration-color: #00af00\">33,921</span> (132.50 KB)\n",
              "</pre>\n"
            ]
          },
          "metadata": {}
        },
        {
          "output_type": "display_data",
          "data": {
            "text/plain": [
              "\u001b[1m Trainable params: \u001b[0m\u001b[38;5;34m33,921\u001b[0m (132.50 KB)\n"
            ],
            "text/html": [
              "<pre style=\"white-space:pre;overflow-x:auto;line-height:normal;font-family:Menlo,'DejaVu Sans Mono',consolas,'Courier New',monospace\"><span style=\"font-weight: bold\"> Trainable params: </span><span style=\"color: #00af00; text-decoration-color: #00af00\">33,921</span> (132.50 KB)\n",
              "</pre>\n"
            ]
          },
          "metadata": {}
        },
        {
          "output_type": "display_data",
          "data": {
            "text/plain": [
              "\u001b[1m Non-trainable params: \u001b[0m\u001b[38;5;34m0\u001b[0m (0.00 B)\n"
            ],
            "text/html": [
              "<pre style=\"white-space:pre;overflow-x:auto;line-height:normal;font-family:Menlo,'DejaVu Sans Mono',consolas,'Courier New',monospace\"><span style=\"font-weight: bold\"> Non-trainable params: </span><span style=\"color: #00af00; text-decoration-color: #00af00\">0</span> (0.00 B)\n",
              "</pre>\n"
            ]
          },
          "metadata": {}
        }
      ]
    },
    {
      "cell_type": "markdown",
      "source": [
        "##  Entrenamiento"
      ],
      "metadata": {
        "id": "NLvo4p5toxez"
      }
    },
    {
      "cell_type": "code",
      "source": [
        "# ========================================\n",
        "history = model.fit(X_train, y_train,\n",
        "                    epochs=100,\n",
        "                    batch_size=16,\n",
        "                    validation_data=(X_val, y_val),\n",
        "                    callbacks=[early_stop],\n",
        "                    verbose=1)"
      ],
      "metadata": {
        "colab": {
          "base_uri": "https://localhost:8080/"
        },
        "id": "DzcBYJb6j8HN",
        "outputId": "5146e9a2-0197-4c44-ba8c-e25fac3591d6"
      },
      "execution_count": 40,
      "outputs": [
        {
          "output_type": "stream",
          "name": "stdout",
          "text": [
            "Epoch 1/100\n",
            "\u001b[1m52/52\u001b[0m \u001b[32m━━━━━━━━━━━━━━━━━━━━\u001b[0m\u001b[37m\u001b[0m \u001b[1m5s\u001b[0m 39ms/step - loss: 0.6637 - val_loss: 0.0615\n",
            "Epoch 2/100\n",
            "\u001b[1m52/52\u001b[0m \u001b[32m━━━━━━━━━━━━━━━━━━━━\u001b[0m\u001b[37m\u001b[0m \u001b[1m2s\u001b[0m 25ms/step - loss: 0.0440 - val_loss: 0.0299\n",
            "Epoch 3/100\n",
            "\u001b[1m52/52\u001b[0m \u001b[32m━━━━━━━━━━━━━━━━━━━━\u001b[0m\u001b[37m\u001b[0m \u001b[1m1s\u001b[0m 19ms/step - loss: 0.0277 - val_loss: 0.0111\n",
            "Epoch 4/100\n",
            "\u001b[1m52/52\u001b[0m \u001b[32m━━━━━━━━━━━━━━━━━━━━\u001b[0m\u001b[37m\u001b[0m \u001b[1m1s\u001b[0m 20ms/step - loss: 0.0157 - val_loss: 0.0132\n",
            "Epoch 5/100\n",
            "\u001b[1m52/52\u001b[0m \u001b[32m━━━━━━━━━━━━━━━━━━━━\u001b[0m\u001b[37m\u001b[0m \u001b[1m1s\u001b[0m 21ms/step - loss: 0.0221 - val_loss: 0.0110\n",
            "Epoch 6/100\n",
            "\u001b[1m52/52\u001b[0m \u001b[32m━━━━━━━━━━━━━━━━━━━━\u001b[0m\u001b[37m\u001b[0m \u001b[1m1s\u001b[0m 20ms/step - loss: 0.0129 - val_loss: 0.0182\n",
            "Epoch 7/100\n",
            "\u001b[1m52/52\u001b[0m \u001b[32m━━━━━━━━━━━━━━━━━━━━\u001b[0m\u001b[37m\u001b[0m \u001b[1m1s\u001b[0m 19ms/step - loss: 0.0165 - val_loss: 0.0149\n",
            "Epoch 8/100\n",
            "\u001b[1m52/52\u001b[0m \u001b[32m━━━━━━━━━━━━━━━━━━━━\u001b[0m\u001b[37m\u001b[0m \u001b[1m1s\u001b[0m 22ms/step - loss: 0.0118 - val_loss: 0.0133\n",
            "Epoch 9/100\n",
            "\u001b[1m52/52\u001b[0m \u001b[32m━━━━━━━━━━━━━━━━━━━━\u001b[0m\u001b[37m\u001b[0m \u001b[1m1s\u001b[0m 21ms/step - loss: 0.0125 - val_loss: 0.0127\n",
            "Epoch 10/100\n",
            "\u001b[1m52/52\u001b[0m \u001b[32m━━━━━━━━━━━━━━━━━━━━\u001b[0m\u001b[37m\u001b[0m \u001b[1m2s\u001b[0m 26ms/step - loss: 0.0106 - val_loss: 0.0197\n",
            "Epoch 11/100\n",
            "\u001b[1m52/52\u001b[0m \u001b[32m━━━━━━━━━━━━━━━━━━━━\u001b[0m\u001b[37m\u001b[0m \u001b[1m3s\u001b[0m 34ms/step - loss: 0.0109 - val_loss: 0.0120\n",
            "Epoch 12/100\n",
            "\u001b[1m52/52\u001b[0m \u001b[32m━━━━━━━━━━━━━━━━━━━━\u001b[0m\u001b[37m\u001b[0m \u001b[1m2s\u001b[0m 21ms/step - loss: 0.0108 - val_loss: 0.0083\n",
            "Epoch 13/100\n",
            "\u001b[1m52/52\u001b[0m \u001b[32m━━━━━━━━━━━━━━━━━━━━\u001b[0m\u001b[37m\u001b[0m \u001b[1m1s\u001b[0m 19ms/step - loss: 0.0107 - val_loss: 0.0097\n",
            "Epoch 14/100\n",
            "\u001b[1m52/52\u001b[0m \u001b[32m━━━━━━━━━━━━━━━━━━━━\u001b[0m\u001b[37m\u001b[0m \u001b[1m2s\u001b[0m 26ms/step - loss: 0.0117 - val_loss: 0.0153\n",
            "Epoch 15/100\n",
            "\u001b[1m52/52\u001b[0m \u001b[32m━━━━━━━━━━━━━━━━━━━━\u001b[0m\u001b[37m\u001b[0m \u001b[1m2s\u001b[0m 20ms/step - loss: 0.0086 - val_loss: 0.0065\n",
            "Epoch 16/100\n",
            "\u001b[1m52/52\u001b[0m \u001b[32m━━━━━━━━━━━━━━━━━━━━\u001b[0m\u001b[37m\u001b[0m \u001b[1m1s\u001b[0m 20ms/step - loss: 0.0101 - val_loss: 0.0105\n",
            "Epoch 17/100\n",
            "\u001b[1m52/52\u001b[0m \u001b[32m━━━━━━━━━━━━━━━━━━━━\u001b[0m\u001b[37m\u001b[0m \u001b[1m2s\u001b[0m 26ms/step - loss: 0.0085 - val_loss: 0.0172\n",
            "Epoch 18/100\n",
            "\u001b[1m52/52\u001b[0m \u001b[32m━━━━━━━━━━━━━━━━━━━━\u001b[0m\u001b[37m\u001b[0m \u001b[1m2s\u001b[0m 34ms/step - loss: 0.0079 - val_loss: 0.0058\n",
            "Epoch 19/100\n",
            "\u001b[1m52/52\u001b[0m \u001b[32m━━━━━━━━━━━━━━━━━━━━\u001b[0m\u001b[37m\u001b[0m \u001b[1m2s\u001b[0m 22ms/step - loss: 0.0094 - val_loss: 0.0108\n",
            "Epoch 20/100\n",
            "\u001b[1m52/52\u001b[0m \u001b[32m━━━━━━━━━━━━━━━━━━━━\u001b[0m\u001b[37m\u001b[0m \u001b[1m1s\u001b[0m 23ms/step - loss: 0.0070 - val_loss: 0.0086\n",
            "Epoch 21/100\n",
            "\u001b[1m52/52\u001b[0m \u001b[32m━━━━━━━━━━━━━━━━━━━━\u001b[0m\u001b[37m\u001b[0m \u001b[1m1s\u001b[0m 23ms/step - loss: 0.0060 - val_loss: 0.0080\n",
            "Epoch 22/100\n",
            "\u001b[1m52/52\u001b[0m \u001b[32m━━━━━━━━━━━━━━━━━━━━\u001b[0m\u001b[37m\u001b[0m \u001b[1m1s\u001b[0m 23ms/step - loss: 0.0081 - val_loss: 0.0093\n",
            "Epoch 23/100\n",
            "\u001b[1m52/52\u001b[0m \u001b[32m━━━━━━━━━━━━━━━━━━━━\u001b[0m\u001b[37m\u001b[0m \u001b[1m1s\u001b[0m 19ms/step - loss: 0.0065 - val_loss: 0.0099\n",
            "Epoch 24/100\n",
            "\u001b[1m52/52\u001b[0m \u001b[32m━━━━━━━━━━━━━━━━━━━━\u001b[0m\u001b[37m\u001b[0m \u001b[1m1s\u001b[0m 20ms/step - loss: 0.0093 - val_loss: 0.0076\n",
            "Epoch 25/100\n",
            "\u001b[1m52/52\u001b[0m \u001b[32m━━━━━━━━━━━━━━━━━━━━\u001b[0m\u001b[37m\u001b[0m \u001b[1m1s\u001b[0m 19ms/step - loss: 0.0074 - val_loss: 0.0128\n",
            "Epoch 26/100\n",
            "\u001b[1m52/52\u001b[0m \u001b[32m━━━━━━━━━━━━━━━━━━━━\u001b[0m\u001b[37m\u001b[0m \u001b[1m1s\u001b[0m 24ms/step - loss: 0.0055 - val_loss: 0.0087\n",
            "Epoch 27/100\n",
            "\u001b[1m52/52\u001b[0m \u001b[32m━━━━━━━━━━━━━━━━━━━━\u001b[0m\u001b[37m\u001b[0m \u001b[1m2s\u001b[0m 35ms/step - loss: 0.0056 - val_loss: 0.0124\n",
            "Epoch 28/100\n",
            "\u001b[1m52/52\u001b[0m \u001b[32m━━━━━━━━━━━━━━━━━━━━\u001b[0m\u001b[37m\u001b[0m \u001b[1m2s\u001b[0m 21ms/step - loss: 0.0072 - val_loss: 0.0154\n"
          ]
        }
      ]
    },
    {
      "cell_type": "markdown",
      "source": [
        "# Predicción y métricas"
      ],
      "metadata": {
        "id": "2tPZDPyGo3bq"
      }
    },
    {
      "cell_type": "code",
      "source": [
        "plt.plot(history.history['loss'])\n",
        "plt.plot(history.history['val_loss'])\n",
        "plt.title('Epoch vs Loss for Confirmed Cases')\n",
        "plt.ylabel('Loss')\n",
        "plt.xlabel('Epoch')\n",
        "plt.legend(['Train', 'Validation'], loc='best')\n",
        "plt.show()"
      ],
      "metadata": {
        "colab": {
          "base_uri": "https://localhost:8080/",
          "height": 472
        },
        "id": "ZY34R_Y0kJUv",
        "outputId": "7183db03-e129-4c00-e385-a17f808e03db"
      },
      "execution_count": 41,
      "outputs": [
        {
          "output_type": "display_data",
          "data": {
            "text/plain": [
              "<Figure size 640x480 with 1 Axes>"
            ],
            "image/png": "[encoded data removed]"
          },
          "metadata": {}
        }
      ]
    },
    {
      "cell_type": "markdown",
      "source": [
        "### 📏 Métricas de evaluación: MAPE y RMSE\n",
        "\n",
        "Para evaluar el rendimiento del modelo de predicción de series temporales, se utilizan dos métricas complementarias: **MAPE** (Error Porcentual Absoluto Medio) y **RMSE** (Raíz del Error Cuadrático Medio).\n",
        "\n",
        "---\n",
        "\n",
        "#### 📊 1. MAPE – Mean Absolute Percentage Error\n",
        "\n",
        "$$\n",
        "\\text{MAPE} = \\frac{1}{n} \\sum_{i=1}^{n} \\left| \\frac{y_i - \\hat{y}_i}{y_i} \\right| \\times 100\n",
        "$$\n",
        "\n",
        "- Mide el **porcentaje de error absoluto medio** entre la predicción y el valor real.\n",
        "- **Ventaja**: Intuitivo y fácil de interpretar como porcentaje de error.\n",
        "- **Desventaja**: Se vuelve inestable si hay valores reales cercanos a 0.\n",
        "- En este notebook se aplica una **máscara para excluir valores reales menores a 10** para evitar distorsiones.\n",
        "\n",
        "---\n",
        "\n",
        "#### 📐 2. RMSE – Root Mean Square Error\n",
        "\n",
        "$$\n",
        "\\text{RMSE} = \\sqrt{\\frac{1}{n} \\sum_{i=1}^{n} (y_i - \\hat{y}_i)^2}\n",
        "$$\n",
        "\n",
        "- Mide el error en las mismas unidades que la variable objetivo (casos diarios).\n",
        "- Penaliza más fuertemente los **errores grandes**.\n",
        "- Permite comparar directamente con el número real de casos.\n",
        "\n",
        "---\n",
        "\n",
        "### ✅ Interpretación práctica\n",
        "\n",
        "- **MAPE bajo** indica que el modelo predice correctamente en **términos relativos** (porcentaje del valor real).\n",
        "- **RMSE bajo** indica que el modelo tiene buen desempeño en **valores absolutos**.\n",
        "\n",
        "---\n",
        "\n",
        "> Ambas métricas se complementan: mientras el MAPE da una idea del error proporcional, el RMSE muestra cuánto se desvía la predicción en términos reales.\n"
      ],
      "metadata": {
        "id": "oi8BsGeotETv"
      }
    },
    {
      "cell_type": "code",
      "source": [
        "# Predicción\n",
        "y_pred = model.predict(X_test)\n",
        "\n",
        "# Desescalar\n",
        "y_test_inv = scaler.inverse_transform(y_test)\n",
        "y_pred_inv = scaler.inverse_transform(y_pred)\n",
        "\n",
        "# Máscara: excluir valores reales muy pequeños (ej. menores a 10)\n",
        "mask = y_test_inv.flatten() > 10\n",
        "\n",
        "# Cálculo de métricas\n",
        "mape = mean_absolute_percentage_error(y_test_inv[mask], y_pred_inv[mask])\n",
        "rmse = np.sqrt(mean_squared_error(y_test_inv, y_pred_inv))\n",
        "\n",
        "print(f\"MAPE (sin ceros): {mape:.2f}\")\n",
        "print(f\"RMSE: {rmse:.2f}\")"
      ],
      "metadata": {
        "colab": {
          "base_uri": "https://localhost:8080/"
        },
        "id": "4lIOFZOMkeDQ",
        "outputId": "557a1dc4-1b9c-45ad-b325-5ad51e6f3b71"
      },
      "execution_count": 42,
      "outputs": [
        {
          "output_type": "stream",
          "name": "stdout",
          "text": [
            "\u001b[1m6/6\u001b[0m \u001b[32m━━━━━━━━━━━━━━━━━━━━\u001b[0m\u001b[37m\u001b[0m \u001b[1m1s\u001b[0m 71ms/step\n",
            "MAPE (sin ceros): 0.10\n",
            "RMSE: 5.14\n"
          ]
        }
      ]
    },
    {
      "cell_type": "markdown",
      "source": [
        "## Visualización"
      ],
      "metadata": {
        "id": "qFq6ElvkpAVQ"
      }
    },
    {
      "cell_type": "code",
      "source": [
        "plt.plot(y_test_inv, label='Real')\n",
        "plt.plot(y_pred_inv, label='Predicción')\n",
        "plt.title(f'Casos de COVID - {municipio}')\n",
        "plt.xlabel('Días')\n",
        "plt.ylabel('Casos')\n",
        "plt.legend()\n",
        "plt.grid(True)\n",
        "plt.show()"
      ],
      "metadata": {
        "colab": {
          "base_uri": "https://localhost:8080/",
          "height": 472
        },
        "id": "TaRXXXCzkju1",
        "outputId": "046e324c-d1ea-474c-a910-6ce2bf9fb350"
      },
      "execution_count": 43,
      "outputs": [
        {
          "output_type": "display_data",
          "data": {
            "text/plain": [
              "<Figure size 640x480 with 1 Axes>"
            ],
            "image/png": "[encoded data removed]"
          },
          "metadata": {}
        }
      ]
    },
    {
      "cell_type": "markdown",
      "source": [
        "### 📊 esultados\n",
        "\n",
        "Después de entrenar y evaluar el modelo LSTM, se obtuvieron las siguientes métricas de desempeño en el conjunto de prueba:\n",
        "\n",
        "- **MAPE (sin ceros)**: 0.10 → **10 %**\n",
        "- **RMSE**: 5.14 casos\n",
        "\n",
        "---\n",
        "\n",
        "### ✅ ¿Qué significan?\n",
        "\n",
        "#### 📈 MAPE = 0.10 (10 %)\n",
        "\n",
        "- En promedio, el modelo comete un **error del 10 %** respecto al valor real de los casos diarios (sin contar días con valores muy bajos).\n",
        "- Es un resultado **muy bueno** en contextos epidemiológicos, donde fluctuaciones pequeñas pueden ser comunes.\n",
        "- Este bajo porcentaje sugiere que el modelo **aprendió bien los patrones** de la serie temporal y tiene buena generalización.\n",
        "\n",
        "#### 📉 RMSE = 5.14\n",
        "\n",
        "- La predicción tiene una desviación promedio de **aproximadamente 5 casos diarios** con respecto al valor real.\n",
        "- Dado que los casos diarios pueden variar entre 10 y más de 100 (según el municipio), este error es **relativamente bajo en escala absoluta**.\n",
        "- Indica que las predicciones no sólo son precisas en porcentaje, sino también **cercanas a los valores reales en unidades concretas**.\n",
        "\n",
        "---\n",
        "\n",
        "### 📌 Conclusión\n",
        "\n",
        "> El modelo tiene un **muy buen rendimiento** tanto en términos **relativos** como **absolutos**, lo que lo hace adecuado para aplicaciones prácticas como vigilancia epidémica, predicción de brotes locales o apoyo a decisiones sanitarias.\n",
        "\n",
        "Este desempeño también sugiere que el **preprocesamiento (suavizado, normalización)** y la **arquitectura elegida (LSTM Bidireccional)** están bien alineados con la naturaleza del problema.\n"
      ],
      "metadata": {
        "id": "WIuldugFttVn"
      }
    },
    {
      "cell_type": "code",
      "source": [],
      "metadata": {
        "id": "kQ2nD5NwkpdV"
      },
      "execution_count": null,
      "outputs": []
    }
  ]
}